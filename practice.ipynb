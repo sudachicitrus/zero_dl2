{
  "nbformat": 4,
  "nbformat_minor": 0,
  "metadata": {
    "colab": {
      "provenance": [],
      "toc_visible": true,
      "authorship_tag": "ABX9TyPWvDzR9uozBBrFK5fuvzxD",
      "include_colab_link": true
    },
    "kernelspec": {
      "name": "python3",
      "display_name": "Python 3"
    },
    "language_info": {
      "name": "python"
    }
  },
  "cells": [
    {
      "cell_type": "markdown",
      "metadata": {
        "id": "view-in-github",
        "colab_type": "text"
      },
      "source": [
        "<a href=\"https://colab.research.google.com/github/sudachicitrus/zero_dl2/blob/main/practice.ipynb\" target=\"_parent\"><img src=\"https://colab.research.google.com/assets/colab-badge.svg\" alt=\"Open In Colab\"/></a>"
      ]
    },
    {
      "cell_type": "code",
      "execution_count": 3,
      "metadata": {
        "id": "hGPaV4CVRSZu"
      },
      "outputs": [],
      "source": [
        "import numpy as np\n",
        "\n",
        "class Bandit:\n",
        "    def __init__(self, arms=10):\n",
        "        self.rates = np.random.rand(arms)\n",
        "\n",
        "    def play(self, arm):\n",
        "        rate = self.rates[arm]\n",
        "        if rate > np.random.rand():\n",
        "            return 1\n",
        "        else:\n",
        "            return 0"
      ]
    },
    {
      "cell_type": "code",
      "source": [
        "bandit = Bandit()\n",
        "\n",
        "for i in range(3):\n",
        "    print(bandit.play(0))"
      ],
      "metadata": {
        "colab": {
          "base_uri": "https://localhost:8080/"
        },
        "id": "uSb3pkSXSRyE",
        "outputId": "571950fa-e286-4350-e0c0-41e709903e11"
      },
      "execution_count": 4,
      "outputs": [
        {
          "output_type": "stream",
          "name": "stdout",
          "text": [
            "1\n",
            "1\n",
            "0\n"
          ]
        }
      ]
    },
    {
      "cell_type": "code",
      "source": [
        "Q = 0\n",
        "\n",
        "for n in range(1,11):\n",
        "    reward = bandit.play(0)\n",
        "    Q += (reward - Q) / n\n",
        "    print(Q)"
      ],
      "metadata": {
        "colab": {
          "base_uri": "https://localhost:8080/"
        },
        "id": "Q9JLeqMtSdlX",
        "outputId": "5ad37ba7-6cb1-407a-e532-ef15725c6065"
      },
      "execution_count": 16,
      "outputs": [
        {
          "output_type": "stream",
          "name": "stdout",
          "text": [
            "0.0\n",
            "0.0\n",
            "0.3333333333333333\n",
            "0.25\n",
            "0.2\n",
            "0.33333333333333337\n",
            "0.28571428571428575\n",
            "0.375\n",
            "0.4444444444444444\n",
            "0.39999999999999997\n"
          ]
        }
      ]
    },
    {
      "cell_type": "code",
      "source": [
        "bandit = Bandit()\n",
        "Qs = np.zeros(10)\n",
        "ns = np.zeros(10)\n",
        "\n",
        "for n in range(10):\n",
        "    action = np.random.randint(0,10)\n",
        "    reward = bandit.play(action)\n",
        "\n",
        "    ns[action] += 1\n",
        "    Qs[action] += (reward - Qs[action]) / ns[action]\n",
        "    print(Qs)"
      ],
      "metadata": {
        "colab": {
          "base_uri": "https://localhost:8080/"
        },
        "id": "LjqmUHsSS2jL",
        "outputId": "cacdc2f1-34c1-498a-c6fd-2e7407b8d8a6"
      },
      "execution_count": 20,
      "outputs": [
        {
          "output_type": "stream",
          "name": "stdout",
          "text": [
            "[0. 0. 0. 0. 0. 0. 0. 0. 0. 0.]\n",
            "[0. 0. 0. 0. 1. 0. 0. 0. 0. 0.]\n",
            "[0. 0. 0. 0. 1. 0. 0. 0. 0. 1.]\n",
            "[0. 0. 0. 0. 1. 0. 0. 0. 0. 1.]\n",
            "[0. 0. 0. 0. 1. 0. 0. 1. 0. 1.]\n",
            "[0. 0. 0. 0. 1. 0. 0. 1. 0. 1.]\n",
            "[0. 0. 0. 0. 1. 1. 0. 1. 0. 1.]\n",
            "[0. 0. 0. 0. 1. 1. 0. 1. 0. 1.]\n",
            "[0. 0. 1. 0. 1. 1. 0. 1. 0. 1.]\n",
            "[0.  0.5 1.  0.  1.  1.  0.  1.  0.  1. ]\n"
          ]
        }
      ]
    },
    {
      "cell_type": "code",
      "source": [
        "class Agent:\n",
        "    def __init__(self, epsilon, action_size=10):\n",
        "        self.epsilon = epsilon\n",
        "        self.Qs = np.zeros(action_size)\n",
        "        self.ns = np.zeros(action_size)\n",
        "\n",
        "    def update(self, action, reward):\n",
        "        self.ns[action] += 1\n",
        "        self.Qs[action] += (reward - self.Qs[action]) / self.ns[action]\n",
        "\n",
        "    def get_action(self):\n",
        "        if np.random.rand() < self.epsilon:\n",
        "            return np.random.randint(0, len(self.Qs))\n",
        "        return np.argmax(self.Qs)"
      ],
      "metadata": {
        "id": "Ex6F6AHKTYkO"
      },
      "execution_count": 28,
      "outputs": []
    },
    {
      "cell_type": "code",
      "source": [
        "import matplotlib.pyplot as plt\n",
        "\n",
        "steps = 1000\n",
        "epsilon = 0.1\n",
        "\n",
        "bandit = Bandit()\n",
        "agent = Agent(epsilon)\n",
        "total_reward = 0\n",
        "total_rewards = []\n",
        "rates = []\n",
        "\n",
        "for step in range(steps):\n",
        "    action = agent.get_action()\n",
        "    reward = bandit.play(action)\n",
        "    agent.update(action, reward)\n",
        "    total_reward += reward\n",
        "\n",
        "    total_rewards.append(total_reward)\n",
        "    rates.append(total_reward / (step+1))\n",
        "\n",
        "print(total_reward)\n",
        "\n",
        "plt.ylabel(\"Total reward\")\n",
        "plt.xlabel('Steps')\n",
        "plt.plot(total_rewards)\n",
        "plt.show()\n",
        "\n",
        "plt.ylabel('Rates')\n",
        "plt.xlabel('Steps')\n",
        "plt.plot(rates)\n",
        "plt.show()"
      ],
      "metadata": {
        "colab": {
          "base_uri": "https://localhost:8080/",
          "height": 558
        },
        "id": "YKM7t_DkWYiC",
        "outputId": "3c86209e-e606-41a9-ed4c-3fddb2363f20"
      },
      "execution_count": 30,
      "outputs": [
        {
          "output_type": "stream",
          "name": "stdout",
          "text": [
            "914\n"
          ]
        },
        {
          "output_type": "display_data",
          "data": {
            "text/plain": [
              "<Figure size 432x288 with 1 Axes>"
            ],
            "image/png": "[encoded data removed]"
          },
          "metadata": {
            "needs_background": "light"
          }
        },
        {
          "output_type": "display_data",
          "data": {
            "text/plain": [
              "<Figure size 432x288 with 1 Axes>"
            ],
            "image/png": "[encoded data removed]"
          },
          "metadata": {
            "needs_background": "light"
          }
        }
      ]
    },
    {
      "cell_type": "code",
      "source": [
        "runs = 200\n",
        "steps = 1000\n",
        "episilon = 0.1\n",
        "all_rates = np.zeros((runs, steps))\n",
        "\n",
        "for run in range(runs):\n",
        "    bandit = Bandit()\n",
        "    agent = Agent(epsilon)\n",
        "    total_reward = 0\n",
        "    rates = []\n",
        "\n",
        "    for step in range(steps):\n",
        "        action = agent.get_action()\n",
        "        reward = bandit.play(action)\n",
        "        agent.update(action, reward)\n",
        "        total_reward += reward\n",
        "        rates.append(total_reward / (step+1))\n",
        "\n",
        "    all_rates[run] = rates\n",
        "avg_rates = np.average(all_rates, axis=0)\n",
        "\n",
        "plt.ylabel('Rates')\n",
        "plt.xlabel('Steps')\n",
        "plt.plot(avg_rates)\n",
        "plt.show()"
      ],
      "metadata": {
        "colab": {
          "base_uri": "https://localhost:8080/",
          "height": 279
        },
        "id": "asHVDtW1aLVa",
        "outputId": "e5e73305-56f3-4c18-c312-3fd53e5fceaf"
      },
      "execution_count": 34,
      "outputs": [
        {
          "output_type": "display_data",
          "data": {
            "text/plain": [
              "<Figure size 432x288 with 1 Axes>"
            ],
            "image/png": "[encoded data removed]"
          },
          "metadata": {
            "needs_background": "light"
          }
        }
      ]
    },
    {
      "cell_type": "code",
      "source": [],
      "metadata": {
        "id": "wzeYgnZ7buD5"
      },
      "execution_count": null,
      "outputs": []
    }
  ]
}