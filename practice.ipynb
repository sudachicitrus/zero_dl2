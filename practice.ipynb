{
  "nbformat": 4,
  "nbformat_minor": 0,
  "metadata": {
    "colab": {
      "provenance": [],
      "authorship_tag": "ABX9TyMbfV24inUBLliBspXmCXb0",
      "include_colab_link": true
    },
    "kernelspec": {
      "name": "python3",
      "display_name": "Python 3"
    },
    "language_info": {
      "name": "python"
    }
  },
  "cells": [
    {
      "cell_type": "markdown",
      "metadata": {
        "id": "view-in-github",
        "colab_type": "text"
      },
      "source": [
        "<a href=\"https://colab.research.google.com/github/sudachicitrus/zero_dl2/blob/main/practice.ipynb\" target=\"_parent\"><img src=\"https://colab.research.google.com/assets/colab-badge.svg\" alt=\"Open In Colab\"/></a>"
      ]
    },
    {
      "cell_type": "code",
      "execution_count": 2,
      "metadata": {
        "id": "hGPaV4CVRSZu"
      },
      "outputs": [],
      "source": [
        "import numpy as np\n",
        "\n",
        "class Bandit:\n",
        "    def __init__(self, arms=10):\n",
        "        self.rates = np.random.rand(arms)\n",
        "\n",
        "    def play(self, arm):\n",
        "        rate = self.rates[arm]\n",
        "        if rate > np.random.rand():\n",
        "            return 1\n",
        "        else:\n",
        "            return 0"
      ]
    },
    {
      "cell_type": "code",
      "source": [
        "bandit = Bandit()\n",
        "\n",
        "for i in range(3):\n",
        "    print(bandit.play(0))"
      ],
      "metadata": {
        "colab": {
          "base_uri": "https://localhost:8080/"
        },
        "id": "uSb3pkSXSRyE",
        "outputId": "f27af83f-692f-41d6-8436-0395b1398818"
      },
      "execution_count": 3,
      "outputs": [
        {
          "output_type": "stream",
          "name": "stdout",
          "text": [
            "0\n",
            "0\n",
            "1\n"
          ]
        }
      ]
    },
    {
      "cell_type": "code",
      "source": [
        "Q = 0\n",
        "\n",
        "for n in range(1,11):\n",
        "    reward = bandit.play(0)\n",
        "    Q += (reward - Q) / n\n",
        "    print(Q)"
      ],
      "metadata": {
        "colab": {
          "base_uri": "https://localhost:8080/"
        },
        "id": "Q9JLeqMtSdlX",
        "outputId": "366b5c34-d616-4f48-b00c-6e85e33565ae"
      },
      "execution_count": 4,
      "outputs": [
        {
          "output_type": "stream",
          "name": "stdout",
          "text": [
            "0.0\n",
            "0.0\n",
            "0.3333333333333333\n",
            "0.5\n",
            "0.6\n",
            "0.5\n",
            "0.4285714285714286\n",
            "0.5\n",
            "0.5555555555555556\n",
            "0.5\n"
          ]
        }
      ]
    },
    {
      "cell_type": "code",
      "source": [
        "bandit = Bandit()\n",
        "Qs = np.zeros(10)\n",
        "ns = np.zeros(10)\n",
        "\n",
        "for n in range(10):\n",
        "    action = np.random.randint(0,10)\n",
        "    reward = bandit.play(action)\n",
        "\n",
        "    ns[action] += 1\n",
        "    Qs[action] += (reward - Qs[action]) / ns[action]\n",
        "    print(Qs)"
      ],
      "metadata": {
        "colab": {
          "base_uri": "https://localhost:8080/"
        },
        "id": "LjqmUHsSS2jL",
        "outputId": "6a1907ff-50c9-4573-ebd4-3aeb37c71d38"
      },
      "execution_count": 5,
      "outputs": [
        {
          "output_type": "stream",
          "name": "stdout",
          "text": [
            "[0. 0. 0. 0. 0. 0. 0. 0. 0. 0.]\n",
            "[0. 0. 0. 0. 0. 0. 0. 0. 0. 0.]\n",
            "[0.  0.  0.  0.  0.  0.  0.  0.  0.5 0. ]\n",
            "[0.  0.  0.  0.  0.  0.  0.  0.  0.5 0. ]\n",
            "[0.  0.  0.  0.  0.  0.  0.  0.  0.5 0. ]\n",
            "[0.  0.  0.  0.  1.  0.  0.  0.  0.5 0. ]\n",
            "[0.  0.  0.  0.  1.  0.  0.  0.  0.5 0. ]\n",
            "[0.  0.  0.  0.  1.  0.  0.  0.  0.5 0. ]\n",
            "[0.  0.  0.  0.  1.  0.  0.  0.  0.5 0. ]\n",
            "[0.  0.  0.  0.  1.  0.  0.  0.  0.5 0. ]\n"
          ]
        }
      ]
    },
    {
      "cell_type": "code",
      "source": [
        "class Agent:\n",
        "    def __init__(self, epsilon, action_size=10):\n",
        "        self.epsilon = epsilon\n",
        "        self.Qs = np.zeros(action_size)\n",
        "        self.ns = np.zeros(action_size)\n",
        "\n",
        "    def update(self, action, reward):\n",
        "        self.ns[action] += 1\n",
        "        self.Qs[action] += (reward - self.Qs[action]) / self.ns[action]\n",
        "\n",
        "    def get_action(self):\n",
        "        if np.random.rand() < self.epsilon:\n",
        "            return np.random.randint(0, len(self.Qs))\n",
        "        return np.argmax(self.Qs)"
      ],
      "metadata": {
        "id": "Ex6F6AHKTYkO"
      },
      "execution_count": 6,
      "outputs": []
    },
    {
      "cell_type": "code",
      "source": [
        "import matplotlib.pyplot as plt\n",
        "\n",
        "steps = 1000\n",
        "epsilon = 0.1\n",
        "\n",
        "bandit = Bandit()\n",
        "agent = Agent(epsilon)\n",
        "total_reward = 0\n",
        "total_rewards = []\n",
        "rates = []\n",
        "\n",
        "for step in range(steps):\n",
        "    action = agent.get_action()\n",
        "    reward = bandit.play(action)\n",
        "    agent.update(action, reward)\n",
        "    total_reward += reward\n",
        "\n",
        "    total_rewards.append(total_reward)\n",
        "    rates.append(total_reward / (step+1))\n",
        "\n",
        "print(total_reward)\n",
        "\n",
        "plt.ylabel(\"Total reward\")\n",
        "plt.xlabel('Steps')\n",
        "plt.plot(total_rewards)\n",
        "plt.show()\n",
        "\n",
        "plt.ylabel('Rates')\n",
        "plt.xlabel('Steps')\n",
        "plt.plot(rates)\n",
        "plt.show()"
      ],
      "metadata": {
        "colab": {
          "base_uri": "https://localhost:8080/",
          "height": 558
        },
        "id": "YKM7t_DkWYiC",
        "outputId": "eaa6fcf0-adff-4a62-da0c-715586a14a54"
      },
      "execution_count": 7,
      "outputs": [
        {
          "output_type": "stream",
          "name": "stdout",
          "text": [
            "950\n"
          ]
        },
        {
          "output_type": "display_data",
          "data": {
            "text/plain": [
              "<Figure size 432x288 with 1 Axes>"
            ],
            "image/png": "[encoded data removed]"
          },
          "metadata": {
            "needs_background": "light"
          }
        },
        {
          "output_type": "display_data",
          "data": {
            "text/plain": [
              "<Figure size 432x288 with 1 Axes>"
            ],
            "image/png": "[encoded data removed]"
          },
          "metadata": {
            "needs_background": "light"
          }
        }
      ]
    },
    {
      "cell_type": "code",
      "source": [
        "runs = 200\n",
        "steps = 1000\n",
        "episilon = 0.1\n",
        "all_rates = np.zeros((runs, steps))\n",
        "\n",
        "for run in range(runs):\n",
        "    bandit = Bandit()\n",
        "    agent = Agent(epsilon)\n",
        "    total_reward = 0\n",
        "    rates = []\n",
        "\n",
        "    for step in range(steps):\n",
        "        action = agent.get_action()\n",
        "        reward = bandit.play(action)\n",
        "        agent.update(action, reward)\n",
        "        total_reward += reward\n",
        "        rates.append(total_reward / (step+1))\n",
        "\n",
        "    all_rates[run] = rates\n",
        "avg_rates = np.average(all_rates, axis=0)\n",
        "\n",
        "plt.ylabel('Rates')\n",
        "plt.xlabel('Steps')\n",
        "plt.plot(avg_rates)\n",
        "plt.show()"
      ],
      "metadata": {
        "colab": {
          "base_uri": "https://localhost:8080/",
          "height": 280
        },
        "id": "asHVDtW1aLVa",
        "outputId": "c32ae9c4-a5b5-47da-8349-d145803853b8"
      },
      "execution_count": 8,
      "outputs": [
        {
          "output_type": "display_data",
          "data": {
            "text/plain": [
              "<Figure size 432x288 with 1 Axes>"
            ],
            "image/png": "[encoded data removed]"
          },
          "metadata": {
            "needs_background": "light"
          }
        }
      ]
    },
    {
      "cell_type": "code",
      "source": [
        "class NonStatBandit:\n",
        "    def __init__(self, arms=10):\n",
        "        self.arms = arms\n",
        "        self.rates = np.random.rand(arms)\n",
        "\n",
        "    def play(self, arm):\n",
        "        rate = self.rates[arm]\n",
        "        self.rates += 0.1 * np.random.randn(self.arms)\n",
        "        if rate > np.random.rand():\n",
        "            return 1\n",
        "        else:\n",
        "            return 0"
      ],
      "metadata": {
        "id": "wzeYgnZ7buD5"
      },
      "execution_count": 9,
      "outputs": []
    },
    {
      "cell_type": "code",
      "source": [
        "class AlphaAgent:\n",
        "    def __init__(self, epsilon, alpha, actions=10):\n",
        "        self.epsilon = epsilon\n",
        "        self.Qs = np.zeros(actions)\n",
        "        self.alpha = alpha\n",
        "\n",
        "    def update(self, action, reward):\n",
        "        self.Qs[action] += (reward - self.Qs[action]) * self.alpha\n",
        "\n",
        "    def get_action(self):\n",
        "        if np.random.rand() < self.epsilon:\n",
        "            return np.random.randint(0, len(self.Qs))\n",
        "        return np.argmax(self.Qs)"
      ],
      "metadata": {
        "id": "1CyyDAo1e0p9"
      },
      "execution_count": 10,
      "outputs": []
    },
    {
      "cell_type": "code",
      "source": [
        "runs = 200\n",
        "steps = 1000\n",
        "episilon = 0.1\n",
        "alpha = 0.8\n",
        "all_rates = np.zeros((runs, steps))\n",
        "\n",
        "for run in range(runs):\n",
        "    bandit = NonStatBandit()\n",
        "    agent = AlphaAgent(epsilon,alpha)\n",
        "    total_reward = 0\n",
        "    rates = []\n",
        "\n",
        "    for step in range(steps):\n",
        "        action = agent.get_action()\n",
        "        reward = bandit.play(action)\n",
        "        agent.update(action, reward)\n",
        "        total_reward += reward\n",
        "        rates.append(total_reward / (step+1))\n",
        "\n",
        "    all_rates[run] = rates\n",
        "avg_rates = np.average(all_rates, axis=0)\n",
        "\n",
        "plt.ylabel('Rates')\n",
        "plt.xlabel('Steps')\n",
        "plt.plot(avg_rates)\n",
        "plt.show()"
      ],
      "metadata": {
        "id": "WJO_4mGCgDey",
        "outputId": "a49c3c6a-7a7d-40f4-cbf6-f3530dfcf2e9",
        "colab": {
          "base_uri": "https://localhost:8080/",
          "height": 279
        }
      },
      "execution_count": 12,
      "outputs": [
        {
          "output_type": "display_data",
          "data": {
            "text/plain": [
              "<Figure size 432x288 with 1 Axes>"
            ],
            "image/png": "[encoded data removed]"
          },
          "metadata": {
            "needs_background": "light"
          }
        }
      ]
    },
    {
      "cell_type": "code",
      "source": [
        "V = 1\n",
        "for i in range(1, 100):\n",
        "    V += -1 * (0.9 ** i)\n",
        "\n",
        "print(V)"
      ],
      "metadata": {
        "id": "nkngOQ23hRUi",
        "outputId": "c850164a-5fa2-40da-9ade-9c997a7c0089",
        "colab": {
          "base_uri": "https://localhost:8080/"
        }
      },
      "execution_count": 13,
      "outputs": [
        {
          "output_type": "stream",
          "name": "stdout",
          "text": [
            "-7.999734386011124\n"
          ]
        }
      ]
    },
    {
      "cell_type": "code",
      "source": [],
      "metadata": {
        "id": "KYSGeIFRoLeW"
      },
      "execution_count": null,
      "outputs": []
    }
  ]
}